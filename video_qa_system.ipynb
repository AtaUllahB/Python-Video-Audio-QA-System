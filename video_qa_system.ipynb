{
 "cells": [
  {
   "cell_type": "markdown",
   "metadata": {},
   "source": [
    "# Extract Audio from Video"
   ]
  },
  {
   "cell_type": "code",
   "execution_count": 1,
   "metadata": {},
   "outputs": [
    {
     "name": "stdout",
     "output_type": "stream",
     "text": [
      "MoviePy - Writing audio in audioFile.mp3\n"
     ]
    },
    {
     "name": "stderr",
     "output_type": "stream",
     "text": [
      "                                                                                                                       "
     ]
    },
    {
     "name": "stdout",
     "output_type": "stream",
     "text": [
      "MoviePy - Done.\n"
     ]
    },
    {
     "name": "stderr",
     "output_type": "stream",
     "text": [
      "\r"
     ]
    }
   ],
   "source": [
    "from moviepy.editor import VideoFileClip\n",
    "\n",
    "video_file_path = 'elementsAndIsotopes.mkv'\n",
    "audio_file_path = 'audioFile.mp3'\n",
    "\n",
    "video = VideoFileClip(video_file_path)\n",
    "video.audio.write_audiofile(audio_file_path)"
   ]
  },
  {
   "cell_type": "markdown",
   "metadata": {},
   "source": [
    "# Transcribe Audio with Whisper"
   ]
  },
  {
   "cell_type": "code",
   "execution_count": 2,
   "metadata": {},
   "outputs": [
    {
     "name": "stdout",
     "output_type": "stream",
     "text": [
      "The text in video:\n",
      " As we saw in our last video, an atom is made up of a central nucleus which comprises protons and neutrons and then has electrons orbiting that nucleus. We also saw that it's the number of protons that tells us which element it is. The smallest element is hydrogen. As its atoms have just one proton in their nucleus, with one electron orbiting it. The next small list is helium, whose atoms have two protons and two neutrons in the nucleus and then two electrons orbiting them. In total, there are around 100 different elements and they've been organized into the periodic table, with each box representing a different element. We call these boxes nuclear symbols as we saw in the last video. And the number in the bottom left is the atomic number, which is unique to that element, as it represents the number of protons in the atoms of that element. And any atom with that many protons must be that element. So our atom here, which has two protons, must be helium because helium's atomic number is two. What if we take carbon, we can see that its atomic number is six. So all carbon atoms have six protons. So if we found an atom with three protons, like this one here, then it couldn't be carbon. We'd have to find the element with an atomic number of three, which if we check the periodic table is lithium. Another feature of nuclear symbols is the one or two-letter symbol that represents the element name. So C stands for carbon and Li means lithium. Some symbols though are a bit more confusing. For example, sodium is Na and I is Fe. Most periodic tables have both a symbol and a name though. So if you're not sure what a certain symbol is, you can just find on the periodic table and check. So now that we know that it's a number of protons that determines which element it is, what about the number of neutrons? Well the number of neutrons can actually vary between the individual atoms of an element. As long as the number of protons remains the same, it's still the same element. And recall these different forms of that element, isotopes. The definition which you need to remember is isotopes are different forms of the same element that have the same number of protons but a different number of neutrons. Let's take a look at carbon to show you what we mean. The most common form of carbon is so called carbon 12, which has six protons, six neutrons and six electrons. The rariform is the isotope carbon 13, which of course still has six protons because it's carbon, but has seven neutrons and six electrons. This means that it has a mass number of 13 rather than 12, which is why we call it carbon 13. Because isotopes only vary in the number of neutrons they have, chemically they all react in basically the same way. Now because they all have different numbers of neutrons the different isotopes will have different masses. And one of the things that you need to be able to do is calculate the average mass of all the isotopes that make up a particular element, which we call the relative atomic mass. Let's take a look at copper as an example. Now copper has two stabilisodopes, copper 63, which has an abundance of 69.2%, and copper 65, which has an abundance of 30.8%. And when we say abundance, all we mean is how common or rare that isotope is. So if you were to pick up a handful of copper, then on average 69.2% of the atoms in your hand would be the copper 63 isotope. And the other 30.8% would be the copper 65 form. Now in an exam, you might get a question like calculate the relative atomic mass of copper to one decimal place. The equation for relative atomic mass is some of isotope abundance times isotope mass divided by the sum of the abundances of all the isotopes. So the first thing we do is multiply each isotope's abundance by its mass. So for the copper 63 isotope, this would be 69.2, which is its abundance, times 63, which is its mass. And for copper 65, it would be 30.8 times 65. And we sum these two figures together, which just means we add them together. Lastly, we divide this by the sum of the abundances of all the isotopes, which in this case would be 69.2 plus 30.8. Now you can either put this all straight into your calculator or simplify it down first. 69.2 times 63 gives us 4359.6, while 30.8 times 65 gives us 2,000 and 2. And then we add these together to get 6361.69. On the bottom 69.2 plus 30.8 gives us 100, which makes sense because there are only two isotopes. So together they should add up to 100% so that they represent all of the copper atoms. So we divide 6361.69 by 100. And our answer is 63.6169. But as the question asks for one small place, we give the answer as 63.6. And this number that we found is the relative atomic mass, which is denoted by the symbol AR. So we could say that the average mass of a copper atom is 63.6. Anyway, that's all for this video. So if you found it useful, then please share it with your friends or give us a comment down below. And we'll see you next time.\n"
     ]
    }
   ],
   "source": [
    "import whisper\n",
    "\n",
    "whisper_model = whisper.load_model(\"base\")\n",
    "result = whisper_model.transcribe(\"C:/Users/acer/Documents/GenAI/Project/audioFile.mp3\")\n",
    "\n",
    "print(f'The text in video:\\n{result[\"text\"]}')\n",
    "text = result[\"text\"]"
   ]
  },
  {
   "cell_type": "markdown",
   "metadata": {},
   "source": [
    "# Q&A with Gemini"
   ]
  },
  {
   "cell_type": "code",
   "execution_count": 3,
   "metadata": {},
   "outputs": [],
   "source": [
    "import os\n",
    "import google.generativeai as genai\n",
    "\n",
    "gemini_api_key = os.environ[\"GEMINI_API_KEY\"]\n",
    "genai.configure(api_key = gemini_api_key)"
   ]
  },
  {
   "cell_type": "code",
   "execution_count": 4,
   "metadata": {},
   "outputs": [
    {
     "name": "stdout",
     "output_type": "stream",
     "text": [
      "Atoms consist of a nucleus containing protons and neutrons and electrons orbiting around it. The number of protons determines the element, while the number of neutrons can vary within isotopes of the same element. Isotopes have the same chemical properties but differ in mass. To calculate the relative atomic mass (AR), multiply each isotope's abundance by its mass, sum the results, and divide by the sum of the abundances. The AR represents the average mass of an atom in an element.\n"
     ]
    }
   ],
   "source": [
    "model = genai.GenerativeModel('gemini-pro')\n",
    "\n",
    "context = text\n",
    "prompt = \"Summarize the given text\"\n",
    "\n",
    "response = model.generate_content(f\"{context}\\n{prompt}\")\n",
    "print(response.text)"
   ]
  }
 ],
 "metadata": {
  "kernelspec": {
   "display_name": "Python 3 (ipykernel)",
   "language": "python",
   "name": "python3"
  },
  "language_info": {
   "codemirror_mode": {
    "name": "ipython",
    "version": 3
   },
   "file_extension": ".py",
   "mimetype": "text/x-python",
   "name": "python",
   "nbconvert_exporter": "python",
   "pygments_lexer": "ipython3",
   "version": "3.10.10"
  }
 },
 "nbformat": 4,
 "nbformat_minor": 4
}
